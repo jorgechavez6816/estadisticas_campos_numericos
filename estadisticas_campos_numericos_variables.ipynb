{
 "cells": [
  {
   "cell_type": "code",
   "execution_count": 18,
   "metadata": {},
   "outputs": [
    {
     "name": "stdout",
     "output_type": "stream",
     "text": [
      "900.0\n",
      "4\n",
      "900\n",
      "0\n",
      "12563283.400000008\n",
      "12563388.820000008\n",
      "12563336.110000007\n",
      "-52.71\n",
      "895\n",
      "1\n",
      "13959.203777777786\n",
      "-52.71\n",
      "4289854.5\n",
      "73\n",
      "188\n",
      "193349.56774151913\n",
      "37384055345.8323\n",
      "193242.1214605117\n",
      "37342517506.55915\n",
      "21.009032797189864\n",
      "443.225981862435\n"
     ]
    }
   ],
   "source": [
    "#Ejemplo de generación de estadísticas\n",
    "\n",
    "import win32com.client as win32ComClient\n",
    "\n",
    "if __name__ == \"__main__\":\n",
    "    try:\n",
    "        dbName = \"C:\\\\Users\\\\Intel\\\\Documents\\\\Mis documentos IDEA\\\\Samples\\\\Ejemplo-Detalle de ventas.IMD\"\n",
    "        idea = win32ComClient.Dispatch(dispatch=\"Idea.IdeaClient\")\n",
    "        db = idea.OpenDatabase(dbName)\n",
    "        stats = db.FieldStats(\"TOTAL\")\n",
    "        \n",
    "        a01 = stats.NumRecords()\n",
    "        a02 = stats.NumZeroItems()\n",
    "        a03 = stats.NumValidValues()\n",
    "        a04 = stats.NumDataErrors()\n",
    "        a05 = stats.NetValue()\n",
    "        a06 = stats.AbsValue()\n",
    "        a07 = stats.DrValue()\n",
    "        a08 = stats.CrValue()     \n",
    "        a09 = stats.NumDRRec()\n",
    "        a10 = stats.NumCRRec()\n",
    "        a11 = stats.AvgValue()\n",
    "        a12 = stats.MinValue()\n",
    "        a13 = stats.MaxValue()\n",
    "        a14 = stats.RecNumMin()\n",
    "        a15 = stats.RecNumMax()\n",
    "        a16 = stats.SampleStdDev()\n",
    "        a17 = stats.SampleVar()\n",
    "        a18 = stats.PopStdDev()\n",
    "        a19 = stats.PopVar()\n",
    "        a20 = stats.Skewness()\n",
    "        a21 = stats.Kurtosis()\n",
    "        \n",
    "    finally:\n",
    "        task = None\n",
    "        stats = None\n",
    "        idea = None\n",
    "\n",
    "print(a01)\n",
    "print(a02)\n",
    "print(a03)\n",
    "print(a04)\n",
    "print(a05)\n",
    "print(a06)\n",
    "print(a07)\n",
    "print(a08)\n",
    "print(a09)\n",
    "print(a10)\n",
    "print(a11)\n",
    "print(a12)\n",
    "print(a13)\n",
    "print(a14)\n",
    "print(a15)\n",
    "print(a16)\n",
    "print(a17)\n",
    "print(a18)\n",
    "print(a19)\n",
    "print(a20)\n",
    "print(a21)"
   ]
  },
  {
   "cell_type": "code",
   "execution_count": null,
   "metadata": {},
   "outputs": [],
   "source": []
  }
 ],
 "metadata": {
  "kernelspec": {
   "display_name": "Python 3",
   "language": "python",
   "name": "python3"
  },
  "language_info": {
   "codemirror_mode": {
    "name": "ipython",
    "version": 3
   },
   "file_extension": ".py",
   "mimetype": "text/x-python",
   "name": "python",
   "nbconvert_exporter": "python",
   "pygments_lexer": "ipython3",
   "version": "3.7.6"
  }
 },
 "nbformat": 4,
 "nbformat_minor": 4
}
